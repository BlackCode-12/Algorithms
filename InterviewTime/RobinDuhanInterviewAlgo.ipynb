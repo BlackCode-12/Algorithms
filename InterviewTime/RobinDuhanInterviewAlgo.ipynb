{
 "cells": [
  {
   "cell_type": "code",
   "execution_count": 1,
   "metadata": {},
   "outputs": [
    {
     "name": "stdout",
     "output_type": "stream",
     "text": [
      "D:/testing.csv\n"
     ]
    },
    {
     "data": {
      "text/html": [
       "<div>\n",
       "<style scoped>\n",
       "    .dataframe tbody tr th:only-of-type {\n",
       "        vertical-align: middle;\n",
       "    }\n",
       "\n",
       "    .dataframe tbody tr th {\n",
       "        vertical-align: top;\n",
       "    }\n",
       "\n",
       "    .dataframe thead th {\n",
       "        text-align: right;\n",
       "    }\n",
       "</style>\n",
       "<table border=\"1\" class=\"dataframe\">\n",
       "  <thead>\n",
       "    <tr style=\"text-align: right;\">\n",
       "      <th></th>\n",
       "      <th>Sr Num</th>\n",
       "      <th>Name</th>\n",
       "    </tr>\n",
       "  </thead>\n",
       "  <tbody>\n",
       "    <tr>\n",
       "      <th>0</th>\n",
       "      <td>1</td>\n",
       "      <td>Robin Duhan</td>\n",
       "    </tr>\n",
       "    <tr>\n",
       "      <th>1</th>\n",
       "      <td>2</td>\n",
       "      <td>Karlos</td>\n",
       "    </tr>\n",
       "    <tr>\n",
       "      <th>2</th>\n",
       "      <td>3</td>\n",
       "      <td>Jonatthon</td>\n",
       "    </tr>\n",
       "    <tr>\n",
       "      <th>3</th>\n",
       "      <td>4</td>\n",
       "      <td>Jace</td>\n",
       "    </tr>\n",
       "    <tr>\n",
       "      <th>4</th>\n",
       "      <td>5</td>\n",
       "      <td>Luke</td>\n",
       "    </tr>\n",
       "  </tbody>\n",
       "</table>\n",
       "</div>"
      ],
      "text/plain": [
       "   Sr Num         Name\n",
       "0       1  Robin Duhan\n",
       "1       2       Karlos\n",
       "2       3    Jonatthon\n",
       "3       4        Jace \n",
       "4       5         Luke"
      ]
     },
     "execution_count": 1,
     "metadata": {},
     "output_type": "execute_result"
    }
   ],
   "source": [
    "import pandas as pd\n",
    "import numpy as np\n",
    "\n",
    "#Taking the data as input\n",
    "#Input the path of your csv file that must have a name column\n",
    "data = pd.read_csv(input())\n",
    "data.head()"
   ]
  },
  {
   "cell_type": "code",
   "execution_count": 39,
   "metadata": {},
   "outputs": [
    {
     "data": {
      "text/plain": [
       "['Robin Duhan', 'Karlos', 'Jonatthon', 'Jace ', 'Luke']"
      ]
     },
     "execution_count": 39,
     "metadata": {},
     "output_type": "execute_result"
    }
   ],
   "source": [
    "names = list(data[\"Name\"])\n",
    "names"
   ]
  },
  {
   "cell_type": "code",
   "execution_count": 26,
   "metadata": {},
   "outputs": [],
   "source": [
    "#the parameters needed for early finishing\n",
    "#the starting time i.e 11:10 PM\n",
    "#the ending time i.e 12:20 PM\n",
    "#list of names\n",
    "#Interview time\n",
    "#the free-zone time\n",
    "\n",
    "#24-hour clock\n",
    "#12-hour clock\n",
    "#variable interview time\n",
    "#Using a priority queue will be helpful\n",
    "#or just arrange the array\n",
    "\n",
    "def earlyFinish(start_time, end_time, names, length_interview):\n",
    "    timings = []\n",
    "    final = []\n",
    "    start_time = list(map(int, start_time.split(\":\")))\n",
    "    s_t = start_time.copy()\n",
    "    end_time = list(map(int, end_time.split(\":\")))\n",
    "    e_t = end_time.copy()\n",
    "    for i in range(len(names)):\n",
    "        temp_length = length_interview\n",
    "        a1 = names[i]\n",
    "        if(int(start_time[1]) + temp_length > 59):\n",
    "            start_time[0] = int(start_time[0]) + 1\n",
    "            start_time[1] = int(start_time[1]) + temp_length - 60\n",
    "            timings.append([start_time[0], start_time[1]])\n",
    "        else:\n",
    "            start_time[1] = int(start_time[1]) + temp_length\n",
    "            start_time[0] = int(start_time[0])\n",
    "            timings.append([start_time[0], start_time[1]])\n",
    "        if(start_time > end_time):\n",
    "            print(\"Not enough time for all the interviews\")\n",
    "            timings.pop()\n",
    "            break\n",
    "    \n",
    "    b = str(s_t[0]) + \":\" + str(s_t[1])\n",
    "    for t in timings:\n",
    "        a = b\n",
    "        b = str(t[0]) + \":\" + str(t[1])\n",
    "        final.append([a,b])\n",
    "    return final\n",
    "    \n",
    "    \n",
    "    "
   ]
  },
  {
   "cell_type": "code",
   "execution_count": 27,
   "metadata": {},
   "outputs": [
    {
     "name": "stdout",
     "output_type": "stream",
     "text": [
      "[['9:0', '9:30'], ['9:30', '10:0'], ['10:0', '10:30'], ['10:30', '11:0'], ['11:0', '11:30']]\n"
     ]
    }
   ],
   "source": [
    "t = earlyFinish(\"9:00\", \"14:00\", names, 30)\n",
    "print(t)"
   ]
  },
  {
   "cell_type": "code",
   "execution_count": 28,
   "metadata": {},
   "outputs": [],
   "source": [
    "import numpy as np\n",
    "\n",
    "#Starting time array\n",
    "start_time_list = []\n",
    "end_time_list = []\n",
    "for i in t:\n",
    "    start_time_list.append(i[0])\n",
    "    end_time_list.append(i[1])\n",
    "\n",
    "\n"
   ]
  },
  {
   "cell_type": "code",
   "execution_count": 35,
   "metadata": {},
   "outputs": [],
   "source": [
    "data[\"Starting Time\"] = np.array(start_time_list)\n",
    "data[\"Ending Time\"] = np.array(end_time_list)"
   ]
  },
  {
   "cell_type": "code",
   "execution_count": 36,
   "metadata": {},
   "outputs": [
    {
     "data": {
      "text/html": [
       "<div>\n",
       "<style scoped>\n",
       "    .dataframe tbody tr th:only-of-type {\n",
       "        vertical-align: middle;\n",
       "    }\n",
       "\n",
       "    .dataframe tbody tr th {\n",
       "        vertical-align: top;\n",
       "    }\n",
       "\n",
       "    .dataframe thead th {\n",
       "        text-align: right;\n",
       "    }\n",
       "</style>\n",
       "<table border=\"1\" class=\"dataframe\">\n",
       "  <thead>\n",
       "    <tr style=\"text-align: right;\">\n",
       "      <th></th>\n",
       "      <th>Sr Num</th>\n",
       "      <th>Name</th>\n",
       "      <th>Starting Time</th>\n",
       "      <th>Ending Time</th>\n",
       "    </tr>\n",
       "  </thead>\n",
       "  <tbody>\n",
       "    <tr>\n",
       "      <th>0</th>\n",
       "      <td>1</td>\n",
       "      <td>Robin Duhan</td>\n",
       "      <td>9:0</td>\n",
       "      <td>9:30</td>\n",
       "    </tr>\n",
       "    <tr>\n",
       "      <th>1</th>\n",
       "      <td>2</td>\n",
       "      <td>Karlos</td>\n",
       "      <td>9:30</td>\n",
       "      <td>10:0</td>\n",
       "    </tr>\n",
       "    <tr>\n",
       "      <th>2</th>\n",
       "      <td>3</td>\n",
       "      <td>Jonatthon</td>\n",
       "      <td>10:0</td>\n",
       "      <td>10:30</td>\n",
       "    </tr>\n",
       "    <tr>\n",
       "      <th>3</th>\n",
       "      <td>4</td>\n",
       "      <td>Jace</td>\n",
       "      <td>10:30</td>\n",
       "      <td>11:0</td>\n",
       "    </tr>\n",
       "    <tr>\n",
       "      <th>4</th>\n",
       "      <td>5</td>\n",
       "      <td>Luke</td>\n",
       "      <td>11:0</td>\n",
       "      <td>11:30</td>\n",
       "    </tr>\n",
       "  </tbody>\n",
       "</table>\n",
       "</div>"
      ],
      "text/plain": [
       "   Sr Num         Name Starting Time Ending Time\n",
       "0       1  Robin Duhan           9:0        9:30\n",
       "1       2       Karlos          9:30        10:0\n",
       "2       3    Jonatthon          10:0       10:30\n",
       "3       4        Jace          10:30        11:0\n",
       "4       5         Luke          11:0       11:30"
      ]
     },
     "execution_count": 36,
     "metadata": {},
     "output_type": "execute_result"
    }
   ],
   "source": [
    "data.head()"
   ]
  },
  {
   "cell_type": "code",
   "execution_count": 38,
   "metadata": {},
   "outputs": [],
   "source": [
    "#Saving it for final use\n",
    "data.to_csv(\"D://Interview Time.csv\")"
   ]
  },
  {
   "cell_type": "code",
   "execution_count": null,
   "metadata": {},
   "outputs": [],
   "source": []
  }
 ],
 "metadata": {
  "kernelspec": {
   "display_name": "Python 3",
   "language": "python",
   "name": "python3"
  },
  "language_info": {
   "codemirror_mode": {
    "name": "ipython",
    "version": 3
   },
   "file_extension": ".py",
   "mimetype": "text/x-python",
   "name": "python",
   "nbconvert_exporter": "python",
   "pygments_lexer": "ipython3",
   "version": "3.6.1"
  }
 },
 "nbformat": 4,
 "nbformat_minor": 4
}
